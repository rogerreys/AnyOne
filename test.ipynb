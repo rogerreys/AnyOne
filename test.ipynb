{
 "cells": [
  {
   "cell_type": "code",
   "execution_count": 5,
   "metadata": {},
   "outputs": [
    {
     "name": "stdout",
     "output_type": "stream",
     "text": [
      "csv_folder d:\\anyone\\assignment\\dataset \n",
      "public_holidays_url  https://date.nager.at/api/v3/publicholidays\n",
      "csv_table_mapping {'olist_customers_dataset.csv': 'olist_customers', 'olist_geolocation_dataset.csv': 'olist_geolocation', 'olist_order_items_dataset.csv': 'olist_order_items', 'olist_order_payments_dataset.csv': 'olist_order_payments', 'olist_order_reviews_dataset.csv': 'olist_order_reviews', 'olist_orders_dataset.csv': 'olist_orders', 'olist_products_dataset.csv': 'olist_products', 'olist_sellers_dataset.csv': 'olist_sellers', 'product_category_name_translation.csv': 'product_category_name_translation'}\n"
     ]
    }
   ],
   "source": [
    "# Importing the necessary libraries\n",
    "from pandas import DataFrame, read_csv, read_json, to_datetime\n",
    "from sqlalchemy import create_engine\n",
    "from typing import Dict\n",
    "from pathlib import Path\n",
    "\n",
    "from src.transform import QueryEnum\n",
    "from src import config\n",
    "from src.transform import run_queries\n",
    "\n",
    "from src.load import load\n",
    "from src.plots import (\n",
    "    plot_freight_value_weight_relationship,\n",
    "    plot_global_amount_order_status,\n",
    "    plot_real_vs_predicted_delivered_time,\n",
    "    plot_revenue_by_month_year,\n",
    "    plot_revenue_per_state,\n",
    "    plot_top_10_least_revenue_categories,\n",
    "    plot_top_10_revenue_categories,\n",
    "    plot_top_10_revenue_categories_ammount,\n",
    "    plot_delivery_date_difference,\n",
    "    plot_order_amount_per_day_with_holidays,\n",
    ")\n",
    "# Create the database sql file\n",
    "Path(config.SQLITE_BD_ABSOLUTE_PATH).touch()\n",
    "\n",
    "# Create the database connection\n",
    "ENGINE = create_engine(rf\"sqlite:///{config.SQLITE_BD_ABSOLUTE_PATH}\", echo=False)\n",
    "\n",
    "csv_folder = config.DATASET_ROOT_PATH\n",
    "public_holidays_url = config.PUBLIC_HOLIDAYS_URL\n",
    "print(\"csv_folder\", csv_folder, '\\npublic_holidays_url ', public_holidays_url)\n",
    "# 1. Get the mapping of the csv files to the table names.\n",
    "csv_table_mapping = config.get_csv_to_table_mapping()\n",
    "print(\"csv_table_mapping\", csv_table_mapping)\n"
   ]
  },
  {
   "cell_type": "code",
   "execution_count": 28,
   "metadata": {},
   "outputs": [],
   "source": [
    "def extract(\n",
    "    csv_folder: str, csv_table_mapping: Dict[str, str], public_holidays_url: str\n",
    "):\n",
    "    csv_files = csv_table_mapping.keys()\n",
    "    for csv_file in  csv_files:\n",
    "        dataframes = {\n",
    "            table_name: read_csv(f\"{csv_folder}/{csv_file}\")\n",
    "            for csv_file, table_name in csv_table_mapping.items()\n",
    "        }\n",
    "    print(\"public_holidays: \", dataframes[\"public_holidays\"])"
   ]
  },
  {
   "cell_type": "code",
   "execution_count": 29,
   "metadata": {},
   "outputs": [
    {
     "ename": "KeyError",
     "evalue": "'public_holidays'",
     "output_type": "error",
     "traceback": [
      "\u001b[1;31m---------------------------------------------------------------------------\u001b[0m",
      "\u001b[1;31mKeyError\u001b[0m                                  Traceback (most recent call last)",
      "Cell \u001b[1;32mIn[29], line 2\u001b[0m\n\u001b[0;32m      1\u001b[0m \u001b[38;5;66;03m# 2. Extract the data from the csv files, holidays and load them into the dataframes.\u001b[39;00m\n\u001b[1;32m----> 2\u001b[0m csv_dataframes \u001b[38;5;241m=\u001b[39m \u001b[43mextract\u001b[49m\u001b[43m(\u001b[49m\u001b[43mcsv_folder\u001b[49m\u001b[43m,\u001b[49m\u001b[43m \u001b[49m\u001b[43mcsv_table_mapping\u001b[49m\u001b[43m,\u001b[49m\u001b[43m \u001b[49m\u001b[43mpublic_holidays_url\u001b[49m\u001b[43m)\u001b[49m\n",
      "Cell \u001b[1;32mIn[28], line 10\u001b[0m, in \u001b[0;36mextract\u001b[1;34m(csv_folder, csv_table_mapping, public_holidays_url)\u001b[0m\n\u001b[0;32m      5\u001b[0m \u001b[38;5;28;01mfor\u001b[39;00m csv_file \u001b[38;5;129;01min\u001b[39;00m  csv_files:\n\u001b[0;32m      6\u001b[0m     dataframes \u001b[38;5;241m=\u001b[39m {\n\u001b[0;32m      7\u001b[0m         table_name: read_csv(\u001b[38;5;124mf\u001b[39m\u001b[38;5;124m\"\u001b[39m\u001b[38;5;132;01m{\u001b[39;00mcsv_folder\u001b[38;5;132;01m}\u001b[39;00m\u001b[38;5;124m/\u001b[39m\u001b[38;5;132;01m{\u001b[39;00mcsv_file\u001b[38;5;132;01m}\u001b[39;00m\u001b[38;5;124m\"\u001b[39m)\n\u001b[0;32m      8\u001b[0m         \u001b[38;5;28;01mfor\u001b[39;00m csv_file, table_name \u001b[38;5;129;01min\u001b[39;00m csv_table_mapping\u001b[38;5;241m.\u001b[39mitems()\n\u001b[0;32m      9\u001b[0m     }\n\u001b[1;32m---> 10\u001b[0m \u001b[38;5;28mprint\u001b[39m(\u001b[38;5;124m\"\u001b[39m\u001b[38;5;124mpublic_holidays: \u001b[39m\u001b[38;5;124m\"\u001b[39m, \u001b[43mdataframes\u001b[49m\u001b[43m[\u001b[49m\u001b[38;5;124;43m\"\u001b[39;49m\u001b[38;5;124;43mpublic_holidays\u001b[39;49m\u001b[38;5;124;43m\"\u001b[39;49m\u001b[43m]\u001b[49m)\n",
      "\u001b[1;31mKeyError\u001b[0m: 'public_holidays'"
     ]
    }
   ],
   "source": [
    "# 2. Extract the data from the csv files, holidays and load them into the dataframes.\n",
    "csv_dataframes = extract(csv_folder, csv_table_mapping, public_holidays_url)"
   ]
  }
 ],
 "metadata": {
  "kernelspec": {
   "display_name": "clase01anyia",
   "language": "python",
   "name": "python3"
  },
  "language_info": {
   "codemirror_mode": {
    "name": "ipython",
    "version": 3
   },
   "file_extension": ".py",
   "mimetype": "text/x-python",
   "name": "python",
   "nbconvert_exporter": "python",
   "pygments_lexer": "ipython3",
   "version": "3.9.18"
  }
 },
 "nbformat": 4,
 "nbformat_minor": 2
}
